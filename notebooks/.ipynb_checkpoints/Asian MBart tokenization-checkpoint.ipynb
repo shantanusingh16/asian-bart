{
 "cells": [
  {
   "cell_type": "code",
   "execution_count": 2,
   "id": "98bc708e",
   "metadata": {},
   "outputs": [
    {
     "name": "stderr",
     "output_type": "stream",
     "text": [
      "2021-09-25 11:51:36.294226: W tensorflow/stream_executor/platform/default/dso_loader.cc:64] Could not load dynamic library 'libcudart.so.11.0'; dlerror: libcudart.so.11.0: cannot open shared object file: No such file or directory; LD_LIBRARY_PATH: /home/shantanu.singh/miniconda3/envs/py37/lib\n",
      "2021-09-25 11:51:36.294295: I tensorflow/stream_executor/cuda/cudart_stub.cc:29] Ignore above cudart dlerror if you do not have a GPU set up on your machine.\n"
     ]
    }
   ],
   "source": [
    "from asian_bart import AsianBartTokenizer"
   ]
  },
  {
   "cell_type": "code",
   "execution_count": 3,
   "id": "8f55f18c",
   "metadata": {},
   "outputs": [
    {
     "data": {
      "application/vnd.jupyter.widget-view+json": {
       "model_id": "25d36290b9e2499b8511db920f3de7a7",
       "version_major": 2,
       "version_minor": 0
      },
      "text/plain": [
       "Downloading:   0%|          | 0.00/1.30M [00:00<?, ?B/s]"
      ]
     },
     "metadata": {},
     "output_type": "display_data"
    },
    {
     "data": {
      "application/vnd.jupyter.widget-view+json": {
       "model_id": "50ffb84c0c694d688e91dce71167effd",
       "version_major": 2,
       "version_minor": 0
      },
      "text/plain": [
       "Downloading:   0%|          | 0.00/1.30M [00:00<?, ?B/s]"
      ]
     },
     "metadata": {},
     "output_type": "display_data"
    },
    {
     "data": {
      "application/vnd.jupyter.widget-view+json": {
       "model_id": "9a942525d4e4401485904ca8f8265be5",
       "version_major": 2,
       "version_minor": 0
      },
      "text/plain": [
       "Downloading:   0%|          | 0.00/1.12k [00:00<?, ?B/s]"
      ]
     },
     "metadata": {},
     "output_type": "display_data"
    },
    {
     "name": "stderr",
     "output_type": "stream",
     "text": [
      "The tokenizer class you load from this checkpoint is not the same type as the class this function is called from. It may result in unexpected tokenization. \n",
      "The tokenizer class you load from this checkpoint is 'MBartTokenizer'. \n",
      "The class this function is called from is 'AsianBartTokenizer'.\n"
     ]
    }
   ],
   "source": [
    "tokenizer = AsianBartTokenizer.from_pretrained(\"hyunwoongko/asian-bart-ecjk\")"
   ]
  },
  {
   "cell_type": "code",
   "execution_count": 4,
   "id": "fea167ca",
   "metadata": {},
   "outputs": [
    {
     "data": {
      "text/plain": [
       "{'input_ids': tensor([[34498, 35815, 53821, 41055, 39954,  1951, 36967, 39539, 53821, 28431,\n",
       "          34661, 35063, 36414, 35124, 54964, 18528, 57245, 42954, 43100,     2,\n",
       "          57521]]),\n",
       " 'attention_mask': tensor([[1, 1, 1, 1, 1, 1, 1, 1, 1, 1, 1, 1, 1, 1, 1, 1, 1, 1, 1, 1, 1]])}"
      ]
     },
     "execution_count": 4,
     "metadata": {},
     "output_type": "execute_result"
    }
   ],
   "source": [
    "sent = \"Hi, I am Shantanu. I've been trying understand this code for long now\"\n",
    "tokenizer.prepare_seq2seq_batch(src_texts=sent,src_langs=\"en_XX\")"
   ]
  },
  {
   "cell_type": "markdown",
   "id": "89027e31",
   "metadata": {},
   "source": [
    "#### Fairseq's encoded tokens:\n",
    "\n",
    "**BPE**: <br/>\n",
    "[17250, 11, 314, 716, 49892, 42357, 13, 314, 1053, 587, 2111, 1833, 428, 2438, 329, 890, 783] <br/>\n",
    "**Binarized**: <br/>\n",
    "[38737, 800251374, 60989470, 4365322, 14052, 178076, 850314647, 60989470, 6231567, 34803895, 3590156, 1899229, 52404829, 768787, 155236946, 8325716, 15823492]"
   ]
  },
  {
   "cell_type": "code",
   "execution_count": null,
   "id": "34ea4f64",
   "metadata": {},
   "outputs": [],
   "source": []
  }
 ],
 "metadata": {
  "kernelspec": {
   "display_name": "Python 3 (ipykernel)",
   "language": "python",
   "name": "python3"
  },
  "language_info": {
   "codemirror_mode": {
    "name": "ipython",
    "version": 3
   },
   "file_extension": ".py",
   "mimetype": "text/x-python",
   "name": "python",
   "nbconvert_exporter": "python",
   "pygments_lexer": "ipython3",
   "version": "3.7.10"
  }
 },
 "nbformat": 4,
 "nbformat_minor": 5
}
