{
 "cells": [
  {
   "cell_type": "markdown",
   "id": "84a41a92",
   "metadata": {},
   "source": [
    "Important links:\n",
    "1. https://github.com/pytorch/fairseq/blob/main/examples/mbart/README.\n",
    "2. https://github.com/google/sentencepiece"
   ]
  },
  {
   "cell_type": "code",
   "execution_count": 1,
   "id": "65702b51",
   "metadata": {},
   "outputs": [],
   "source": [
    "import os\n",
    "import sentencepiece as spm"
   ]
  },
  {
   "cell_type": "code",
   "execution_count": 2,
   "id": "9eeebcc6",
   "metadata": {},
   "outputs": [],
   "source": [
    "fairseq_mbart_dir = '/scratch/shantanu/guided_summarization/mbart.cc25.v2'"
   ]
  },
  {
   "cell_type": "code",
   "execution_count": 3,
   "id": "4ae0850f",
   "metadata": {},
   "outputs": [],
   "source": [
    "fairseq_sp_modelpath = os.path.join(fairseq_mbart_dir, 'sentence.bpe.model')\n",
    "sp = spm.SentencePieceProcessor(model_file=fairseq_sp_modelpath)"
   ]
  },
  {
   "cell_type": "code",
   "execution_count": 5,
   "id": "ee11d22f",
   "metadata": {},
   "outputs": [
    {
     "name": "stdout",
     "output_type": "stream",
     "text": [
      "[2672, 3, 86, 443, 41114, 1075, 33, 4, 86, 24, 271, 2808, 31576, 28218, 902, 18150, 99, 4988, 5035]\n"
     ]
    }
   ],
   "source": [
    "sent = \"Hi, I am Shantanu. I've been trying understand this code for long now\"\n",
    "print(sp.encode(sent))"
   ]
  },
  {
   "cell_type": "markdown",
   "id": "cc14d486",
   "metadata": {},
   "source": [
    "**Fairseq bpe encoder results:**<br/>\n",
    "[17250, 11, 314, 716, 49892, 42357, 13, 314, 1053, 587, 2111, 1833, 428, 2438, 329, 890, 783]"
   ]
  },
  {
   "cell_type": "code",
   "execution_count": 21,
   "id": "04ebb0b0",
   "metadata": {},
   "outputs": [],
   "source": [
    "src_file = '/scratch/shantanu/guided_summarization/news-commentary-v11.cs'\n",
    "tgt_file = '/scratch/shantanu/guided_summarization/news-commentary-v11.en'\n",
    "guidance_file = '/scratch/shantanu/guided_summarization/news-commentary-v11.cs'"
   ]
  },
  {
   "cell_type": "code",
   "execution_count": 22,
   "id": "cdb4fcc0",
   "metadata": {},
   "outputs": [],
   "source": [
    "with open(src_file, 'r') as f:\n",
    "    src_txt = f.read().splitlines()\n",
    "    \n",
    "with open(tgt_file, 'r') as f:\n",
    "    tgt_txt = f.read().splitlines()\n",
    "    \n",
    "with open(guidance_file, 'r') as f:\n",
    "    guid_txt = f.read().splitlines()"
   ]
  },
  {
   "cell_type": "code",
   "execution_count": 23,
   "id": "3f7f722b",
   "metadata": {},
   "outputs": [
    {
     "data": {
      "text/plain": [
       "(218438, 392379, 218438)"
      ]
     },
     "execution_count": 23,
     "metadata": {},
     "output_type": "execute_result"
    }
   ],
   "source": [
    "len(src_txt), len(tgt_txt), len(guid_txt)"
   ]
  },
  {
   "cell_type": "code",
   "execution_count": 25,
   "id": "f93458fc",
   "metadata": {},
   "outputs": [
    {
     "data": {
      "text/plain": [
       "('Zlato za 10\\xa0000 dolarů?', '$10,000 Gold?')"
      ]
     },
     "execution_count": 25,
     "metadata": {},
     "output_type": "execute_result"
    }
   ],
   "source": [
    "src_txt[0], tgt_txt[0]"
   ]
  },
  {
   "cell_type": "code",
   "execution_count": null,
   "id": "1372d145",
   "metadata": {},
   "outputs": [],
   "source": []
  }
 ],
 "metadata": {
  "kernelspec": {
   "display_name": "Python 3 (ipykernel)",
   "language": "python",
   "name": "python3"
  },
  "language_info": {
   "codemirror_mode": {
    "name": "ipython",
    "version": 3
   },
   "file_extension": ".py",
   "mimetype": "text/x-python",
   "name": "python",
   "nbconvert_exporter": "python",
   "pygments_lexer": "ipython3",
   "version": "3.7.10"
  }
 },
 "nbformat": 4,
 "nbformat_minor": 5
}
